{
 "cells": [
  {
   "cell_type": "markdown",
   "metadata": {},
   "source": [
    "# Mobagel Corex Python SDK Jupyter Notebook Example\n",
    "This example provides how to use the python package mobagel-corex, including installation, usage of the apis, and some ways to show chart of the experiment's attributes and data values. "
   ]
  },
  {
   "cell_type": "markdown",
   "metadata": {},
   "source": [
    "## Installation"
   ]
  },
  {
   "cell_type": "code",
   "execution_count": null,
   "metadata": {},
   "outputs": [],
   "source": [
    "!pip install mobagel-corex --extra-index-url=https://test.pypi.org/simple/"
   ]
  },
  {
   "cell_type": "markdown",
   "metadata": {},
   "source": [
    "## Running CoreX Example"
   ]
  },
  {
   "cell_type": "code",
   "execution_count": null,
   "metadata": {},
   "outputs": [],
   "source": [
    "import os\n",
    "import corex\n",
    "from corex import TrainInput, PredictInput"
   ]
  },
  {
   "cell_type": "markdown",
   "metadata": {},
   "source": [
    "### Create Context\n",
    "Create Context will set the connection to corex server, and create an event loop. Since Jupyter already have an event loop, SDK will just use the current event loop. See more in [here](https://www.notion.so/API-615d2fba4e7f45c4b5fe63cc192e481f#bb4f0a4b2847450abc4f80b025469170)\n",
    "\n",
    "In Jupyter, it will initially exist a running event loop."
   ]
  },
  {
   "cell_type": "code",
   "execution_count": null,
   "metadata": {},
   "outputs": [],
   "source": [
    "import asyncio\n",
    "loop = asyncio.get_running_loop()\n",
    "loop.is_running()"
   ]
  },
  {
   "cell_type": "markdown",
   "metadata": {},
   "source": [
    "Note: It is ok to recreate context to set the usr, pwd, host."
   ]
  },
  {
   "cell_type": "code",
   "execution_count": null,
   "metadata": {},
   "outputs": [],
   "source": [
    "# enable default logger\n",
    "corex.enable_default_logger()\n",
    "# set the username, password, host\n",
    "context = corex.Context.create(\n",
    "        username='{usr}', password='{pwd}', host='{corexserver}')"
   ]
  },
  {
   "cell_type": "markdown",
   "metadata": {},
   "source": [
    "### Create CoreX API\n",
    "CoreXAPI handles the actions of calling api and getting the results."
   ]
  },
  {
   "cell_type": "code",
   "execution_count": null,
   "metadata": {},
   "outputs": [],
   "source": [
    "client = corex.CoreXAPI()"
   ]
  },
  {
   "cell_type": "markdown",
   "metadata": {},
   "source": [
    "Example of using `corex.upload`, `corex.train`, `corex.predict`.\n",
    "While it's running, it'll show up the progress bar showing the progress of current running jobs."
   ]
  },
  {
   "cell_type": "code",
   "execution_count": null,
   "metadata": {},
   "outputs": [],
   "source": [
    "# open train & test file\n",
    "train_file_path = os.path.join('{train_file_path}')\n",
    "test_file_path = os.path.join('{test_file_path}')\n",
    "train_file = open(train_file_path , 'r')\n",
    "test_file = open(test_file_path , 'r')\n",
    "\n",
    "# upload data to corex \n",
    "train_data = client.upload(file=train_file, name=\"train_data\")\n",
    "test_data = client.upload(file=test_file, name=\"test_data\")\n",
    "# from corex.jobs import DataUpload\n",
    "# train_data = DataUpload.create(data_id = \"{data_id}\", name=\"train_data\")\n",
    "\n",
    "# set train parameters train model\n",
    "train_input = TrainInput(data=train_data, target='Survived', algos=[\"XGBoost\"], max_model=2, tolerance=0.9)\n",
    "exp = client.train(train_input=train_input, select_model_by='mean_per_class_error', name='myexp')\n",
    "\n",
    "# set predict parameters and predict result\n",
    "predict_input = PredictInput(data=test_data, experiment=exp)\n",
    "pred_res = client.predict(predict_input=predict_input, name='mypred')"
   ]
  },
  {
   "cell_type": "code",
   "execution_count": null,
   "metadata": {},
   "outputs": [],
   "source": [
    "# To prevent getting attributes when corresponding jobs aren't finished\n",
    "exp.get(attr='attributes')\n",
    "exp.best_model.get(attr='importances')\n",
    "pred_res.get(attr='schema')"
   ]
  },
  {
   "cell_type": "markdown",
   "metadata": {},
   "source": [
    "### Show Data\n",
    "Use `data.show_df()` and `predict_result.show_df()` to create pandas dataframe. <br>\n",
    "Use `data.show()` or `predict_result.show()` to show data in text."
   ]
  },
  {
   "cell_type": "code",
   "execution_count": null,
   "metadata": {},
   "outputs": [],
   "source": [
    "train_data.show_df()"
   ]
  },
  {
   "cell_type": "markdown",
   "metadata": {},
   "source": [
    "### Show models attributes\n",
    "List the attributes you wish to see in a list, and call `corex.plot.show_model_attr(attrs, exp)`"
   ]
  },
  {
   "cell_type": "code",
   "execution_count": null,
   "metadata": {},
   "outputs": [],
   "source": [
    "import corex.plot\n",
    "corex.plot.show_model_attr(metric='mean_per_class_error', score_types=['validation', 'cv_averages'], exp=exp)"
   ]
  },
  {
   "cell_type": "markdown",
   "metadata": {},
   "source": [
    "### Get Data values with Data instance\n",
    "Plot chart with the values in data instance"
   ]
  },
  {
   "cell_type": "code",
   "execution_count": null,
   "metadata": {},
   "outputs": [],
   "source": [
    "import matplotlib.pyplot as plt\n",
    "import numpy as np\n",
    "\n",
    "\n",
    "labels = ['Survied', 'Dead']\n",
    "labels_gender = ['male', 'female', 'male', 'female']\n",
    "\n",
    "\n",
    "df = train_data.show_df()\n",
    "df_s = df.loc[df[\"Survived\"] == 1]\n",
    "df_d = df.loc[df[\"Survived\"] == 0]\n",
    "\n",
    "sizes = [df_s.shape[0], df_d.shape[0]]\n",
    "\n",
    "sizes_gender = []\n",
    "for d in [df_s, df_d]:\n",
    "    s1 = d.loc[d[\"Sex\"] == \"male\"].shape[0]\n",
    "    s2 = d.loc[d[\"Sex\"] == \"female\"].shape[0]\n",
    "    sizes_gender.append(s1)\n",
    "    sizes_gender.append(s2)\n",
    "\n",
    "    \n",
    "colors = ['#99ff99', '#ff6666']\n",
    "colors_gender = ['#87CEFA','#FFB6C1', '#87CEFA','#FFB6C1']\n",
    " \n",
    "# Plot\n",
    "plt.pie(sizes, labels=labels, colors=colors, startangle=90,frame=True)\n",
    "plt.pie(sizes_gender,colors=colors_gender ,radius=0.75,startangle=90)\n",
    "centre_circle = plt.Circle((0,0),0.5,color='black', fc='white',linewidth=0)\n",
    "fig = plt.gcf()\n",
    "fig.gca().add_artist(centre_circle)\n",
    " \n",
    "plt.axis('equal')\n",
    "plt.tight_layout()\n",
    "plt.show()"
   ]
  }
 ],
 "metadata": {
  "kernelspec": {
   "display_name": "py37",
   "language": "python",
   "name": "py37"
  },
  "language_info": {
   "codemirror_mode": {
    "name": "ipython",
    "version": 3
   },
   "file_extension": ".py",
   "mimetype": "text/x-python",
   "name": "python",
   "nbconvert_exporter": "python",
   "pygments_lexer": "ipython3",
   "version": "3.7.4"
  }
 },
 "nbformat": 4,
 "nbformat_minor": 4
}
