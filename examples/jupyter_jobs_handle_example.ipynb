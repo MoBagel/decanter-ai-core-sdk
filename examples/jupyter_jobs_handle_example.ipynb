{
 "cells": [
  {
   "cell_type": "markdown",
   "metadata": {},
   "source": [
    "## Jobs Handling Example\n",
    "Show the functions relates to the stopping of Jobs."
   ]
  },
  {
   "cell_type": "code",
   "execution_count": null,
   "metadata": {},
   "outputs": [],
   "source": [
    "import asyncio\n",
    "import time\n",
    "\n",
    "import corex\n",
    "from corex import TrainInput, PredictInput\n",
    "from corex.jobs import DataUpload, Experiment\n",
    "from corex.corex_vars import CoreXStatus"
   ]
  },
  {
   "cell_type": "code",
   "execution_count": null,
   "metadata": {},
   "outputs": [],
   "source": [
    "# set the username, password, host\n",
    "corex.enable_default_logger()\n",
    "context = corex.Context.create(\n",
    "        username='{usr}', password='{pwd}', host='{corexserver}')\n",
    "client = corex.CoreXAPI()"
   ]
  },
  {
   "cell_type": "code",
   "execution_count": null,
   "metadata": {},
   "outputs": [],
   "source": [
    "train_file_path = os.path.join('{train_file_path}')\n",
    "test_file_path = os.path.join('{test_file_path}')\n",
    "train_file = open(train_file_path , 'r')\n",
    "test_file = open(test_file_path , 'r')"
   ]
  },
  {
   "cell_type": "markdown",
   "metadata": {},
   "source": [
    "## Job.stop() in diff status"
   ]
  },
  {
   "cell_type": "markdown",
   "metadata": {},
   "source": [
    "Job failed if it is stopped in running status."
   ]
  },
  {
   "cell_type": "code",
   "execution_count": null,
   "metadata": {},
   "outputs": [],
   "source": [
    "train_data = client.upload(file=train_file, name='stop_when_running')\n",
    "\n",
    "async def stop_when_running():\n",
    "    while train_data.status == 'pending':\n",
    "        await asyncio.sleep(3)\n",
    "    train_data.stop()\n",
    "    return\n",
    "\n",
    "await stop_when_running()"
   ]
  },
  {
   "cell_type": "markdown",
   "metadata": {},
   "source": [
    "Job failed if it is stopped in pending status."
   ]
  },
  {
   "cell_type": "code",
   "execution_count": null,
   "metadata": {},
   "outputs": [],
   "source": [
    "train_data = DataUpload(name='stop_when_pending')\n",
    "train_data.stop()\n",
    "print(train_data.status)"
   ]
  },
  {
   "cell_type": "markdown",
   "metadata": {},
   "source": [
    "Job remain failed if it is stopped in pending status."
   ]
  },
  {
   "cell_type": "code",
   "execution_count": null,
   "metadata": {},
   "outputs": [],
   "source": [
    "train_data = DataUpload(name='stop_when_failed')\n",
    "train_data.stop()\n",
    "print(train_data.status)\n",
    "train_data.stop()"
   ]
  },
  {
   "cell_type": "markdown",
   "metadata": {},
   "source": [
    "## Test dependency\n",
    "Stop DataUpload, then the Xxperiemnt and predict depends on the data will fail. Test data will keep upload till it's done."
   ]
  },
  {
   "cell_type": "code",
   "execution_count": null,
   "metadata": {},
   "outputs": [],
   "source": [
    "train_file = open(train_file_path , 'r')\n",
    "test_file = open(test_file_path, 'r')\n",
    "\n",
    "train_data = client.upload(file=train_file, name='train_data')\n",
    "test_data = client.upload(file=test_file, name='test_data')\n",
    "\n",
    "train_input = TrainInput(data=train_data, target='Survived', algos=['XGBoost'], max_model=2, tolerance=0.9)\n",
    "exp = client.train(train_input=train_input, select_model_by='auc', name='exp(data_failed)')\n",
    "\n",
    "predict_input = PredictInput(data=test_data, experiment=exp)\n",
    "\n",
    "# predict result\n",
    "pred_res = client.predict(predict_input=predict_input, name='pred(exp_failed)')\n",
    "    \n",
    "async def stop():\n",
    "    while train_data.status == CoreXStatus.PENDING:\n",
    "        await asyncio.sleep(3)\n",
    "    \n",
    "    train_data.stop()\n",
    "    return\n",
    "\n",
    "await stop()"
   ]
  },
  {
   "cell_type": "markdown",
   "metadata": {},
   "source": [
    "## Test stop jobs list\n",
    "Stop list of jobs, the jobs exclude in list will keep continue till done."
   ]
  },
  {
   "cell_type": "code",
   "execution_count": null,
   "metadata": {},
   "outputs": [],
   "source": [
    "train_file = open(train_file_path , 'r')\n",
    "\n",
    "train_data = client.upload(file=train_file, name='train_data')\n",
    "train_input = TrainInput(data=train_data, target='Survived', algos=['XGBoost'], max_model=2, tolerance=0.9)\n",
    "\n",
    "exps = []\n",
    "for i in range(5):\n",
    "    exp = client.train(train_input=train_input, select_model_by='auc', name='exp_%d' % i)\n",
    "    exps.append(exp)\n",
    "\n",
    "time.sleep(4)\n",
    "context.stop_jobs([exps[0], exps[2], exps[4]])\n"
   ]
  },
  {
   "cell_type": "markdown",
   "metadata": {},
   "source": [
    "Get status of all the Jobs."
   ]
  },
  {
   "cell_type": "code",
   "execution_count": null,
   "metadata": {},
   "outputs": [],
   "source": [
    "context.get_jobs_status()"
   ]
  },
  {
   "cell_type": "markdown",
   "metadata": {},
   "source": [
    "## Test stop all jobs\n",
    "Stop all jobs while data is done, all the experiment should be stopped"
   ]
  },
  {
   "cell_type": "code",
   "execution_count": null,
   "metadata": {},
   "outputs": [],
   "source": [
    "train_file = open(train_file_path , 'r')\n",
    "\n",
    "train_data = client.upload(file=train_file, name='train_data')\n",
    "\n",
    "train_input = TrainInput(data=train_data, target='Survived', algos=['XGBoost'], max_model=2, tolerance=0.9)\n",
    "\n",
    "exps = []\n",
    "for i in range(5):\n",
    "    exp = client.train(train_input=train_input, select_model_by='auc', name='exp_%d' % i)\n",
    "    exps.append(exp)\n",
    "\n",
    "async def stop():\n",
    "    while train_data.status not in CoreXStatus.DONE_STATUS:\n",
    "        await asyncio.sleep(3)\n",
    "    \n",
    "    context.stop_all_jobs()\n",
    "    return\n",
    "\n",
    "await stop()\n"
   ]
  },
  {
   "cell_type": "code",
   "execution_count": null,
   "metadata": {},
   "outputs": [],
   "source": [
    "context.get_jobs_status()"
   ]
  }
 ],
 "metadata": {
  "kernelspec": {
   "display_name": "py37",
   "language": "python",
   "name": "py37"
  },
  "language_info": {
   "codemirror_mode": {
    "name": "ipython",
    "version": 3
   },
   "file_extension": ".py",
   "mimetype": "text/x-python",
   "name": "python",
   "nbconvert_exporter": "python",
   "pygments_lexer": "ipython3",
   "version": "3.7.4"
  }
 },
 "nbformat": 4,
 "nbformat_minor": 4
}
